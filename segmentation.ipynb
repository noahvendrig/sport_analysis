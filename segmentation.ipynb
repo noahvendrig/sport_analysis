{
 "cells": [
  {
   "cell_type": "code",
   "execution_count": 1,
   "metadata": {},
   "outputs": [],
   "source": [
    "import matplotlib.pyplot as plt\n",
    "import numpy as np\n",
    "import cv2"
   ]
  },
  {
   "cell_type": "code",
   "execution_count": 2,
   "metadata": {},
   "outputs": [],
   "source": [
    "img_path = \"./output/cropped_frame.jpg\"\n",
    "img = cv2.imread(img_path)"
   ]
  },
  {
   "cell_type": "code",
   "execution_count": 3,
   "metadata": {},
   "outputs": [],
   "source": [
    "gray = cv2.cvtColor(img, cv2.COLOR_BGR2GRAY)\n",
    "    \n",
    "# Apply Gaussian blur to reduce noise\n",
    "blurred = cv2.GaussianBlur(gray, (5, 5), 0)\n",
    "\n",
    "# Use Otsu's method for thresholding\n",
    "_, thresh = cv2.threshold(blurred, 0, 255, cv2.THRESH_BINARY_INV + cv2.THRESH_OTSU)"
   ]
  },
  {
   "cell_type": "code",
   "execution_count": 4,
   "metadata": {},
   "outputs": [],
   "source": [
    "kernel = np.ones((5,5), np.uint8)\n",
    "opening = cv2.morphologyEx(thresh, cv2.MORPH_OPEN, kernel, iterations=2)\n",
    "\n",
    "# Find contours\n",
    "# contours, _ = cv2.findContours(opening, cv2.RETR_EXTERNAL, cv2.CHAIN_APPROX_SIMPLE)"
   ]
  },
  {
   "cell_type": "code",
   "execution_count": 5,
   "metadata": {},
   "outputs": [],
   "source": [
    "hsv = cv2.cvtColor(img, cv2.COLOR_BGR2HSV)\n",
    "\n",
    "# Define color range for segmentation (adjust these values as needed)\n",
    "lower_color = np.array([30, 40, 40])\n",
    "upper_color = np.array([90, 255, 255])\n",
    "mask = cv2.inRange(hsv, lower_color, upper_color)\n",
    "\n",
    "\n",
    "mask = cv2.morphologyEx(mask, cv2.MORPH_CLOSE, kernel)\n",
    "mask = cv2.morphologyEx(mask, cv2.MORPH_OPEN, kernel)"
   ]
  },
  {
   "cell_type": "code",
   "execution_count": 6,
   "metadata": {},
   "outputs": [
    {
     "data": {
      "text/plain": [
       "array([[[ 88, 142, 105],\n",
       "        [ 88, 142, 105],\n",
       "        [ 85, 142, 103],\n",
       "        ...,\n",
       "        [ 82, 138, 103],\n",
       "        [ 84, 141, 103],\n",
       "        [ 85, 142, 104]],\n",
       "\n",
       "       [[ 88, 142, 105],\n",
       "        [ 88, 142, 105],\n",
       "        [ 86, 143, 104],\n",
       "        ...,\n",
       "        [ 82, 138, 103],\n",
       "        [ 83, 140, 102],\n",
       "        [ 84, 141, 103]],\n",
       "\n",
       "       [[ 87, 141, 104],\n",
       "        [ 87, 141, 104],\n",
       "        [ 87, 142, 103],\n",
       "        ...,\n",
       "        [ 82, 138, 103],\n",
       "        [ 83, 140, 102],\n",
       "        [ 84, 141, 103]],\n",
       "\n",
       "       ...,\n",
       "\n",
       "       [[ 76, 127,  93],\n",
       "        [ 75, 126,  92],\n",
       "        [ 75, 125,  91],\n",
       "        ...,\n",
       "        [ 80, 132,  95],\n",
       "        [ 78, 132,  95],\n",
       "        [ 77, 131,  94]],\n",
       "\n",
       "       [[ 79, 130,  96],\n",
       "        [ 76, 127,  93],\n",
       "        [ 76, 126,  92],\n",
       "        ...,\n",
       "        [ 78, 130,  93],\n",
       "        [ 75, 129,  92],\n",
       "        [ 74, 128,  91]],\n",
       "\n",
       "       [[ 80, 132,  95],\n",
       "        [ 77, 129,  92],\n",
       "        [ 77, 127,  93],\n",
       "        ...,\n",
       "        [ 76, 128,  91],\n",
       "        [ 73, 127,  90],\n",
       "        [ 72, 126,  89]]], dtype=uint8)"
      ]
     },
     "execution_count": 6,
     "metadata": {},
     "output_type": "execute_result"
    }
   ],
   "source": [
    "contours, _ = cv2.findContours(opening, cv2.RETR_EXTERNAL, cv2.CHAIN_APPROX_SIMPLE)\n",
    "\n",
    "# Create a blank mask to draw the desired contours\n",
    "\n",
    "\n",
    "inner_region_mask = np.zeros_like(mask)\n",
    "\n",
    "# Draw the contours onto the blank mask\n",
    "cv2.drawContours(inner_region_mask, contours, -1, (255), thickness=cv2.FILLED)\n",
    "\n",
    "# Subtract the inner region mask from the original mask to get the desired region\n",
    "desired_region_mask = cv2.bitwise_and(mask, cv2.bitwise_not(inner_region_mask))\n",
    "\n",
    "# Find contours in the desired region mask\n",
    "desired_contours, _ = cv2.findContours(desired_region_mask, cv2.RETR_EXTERNAL, cv2.CHAIN_APPROX_SIMPLE)\n",
    "\n",
    "# Draw the contours of the desired region on the original image for visualization\n",
    "outlined_image = img.copy()\n",
    "cv2.drawContours(outlined_image, desired_contours, -1, (0, 255, 0), cv2.FILLED)"
   ]
  },
  {
   "cell_type": "code",
   "execution_count": 7,
   "metadata": {},
   "outputs": [],
   "source": [
    "coordinates = []\n",
    "for contour in desired_contours:\n",
    "    for point in contour:\n",
    "        coordinates.append(tuple(point[0]))\n"
   ]
  },
  {
   "cell_type": "code",
   "execution_count": 10,
   "metadata": {},
   "outputs": [
    {
     "data": {
      "text/plain": [
       "[(0, 0), (0, 100), (45, 100), (45, 0)]"
      ]
     },
     "execution_count": 10,
     "metadata": {},
     "output_type": "execute_result"
    }
   ],
   "source": [
    "coordinates"
   ]
  },
  {
   "cell_type": "code",
   "execution_count": 8,
   "metadata": {},
   "outputs": [
    {
     "data": {
      "text/plain": [
       "<matplotlib.image.AxesImage at 0x136903f2910>"
      ]
     },
     "execution_count": 8,
     "metadata": {},
     "output_type": "execute_result"
    },
    {
     "data": {
      "image/png": "[encoded data removed]",
      "text/plain": [
       "<Figure size 640x480 with 1 Axes>"
      ]
     },
     "metadata": {},
     "output_type": "display_data"
    }
   ],
   "source": [
    "plt.imshow(outlined_image)"
   ]
  },
  {
   "cell_type": "code",
   "execution_count": 20,
   "metadata": {},
   "outputs": [
    {
     "data": {
      "text/plain": [
       "(array([[[ 17,  14]],\n",
       " \n",
       "        [[ 16,  15]],\n",
       " \n",
       "        [[ 15,  15]],\n",
       " \n",
       "        [[ 14,  16]],\n",
       " \n",
       "        [[ 13,  16]],\n",
       " \n",
       "        [[ 10,  19]],\n",
       " \n",
       "        [[ 10,  20]],\n",
       " \n",
       "        [[  7,  23]],\n",
       " \n",
       "        [[  7,  24]],\n",
       " \n",
       "        [[  6,  25]],\n",
       " \n",
       "        [[  6,  26]],\n",
       " \n",
       "        [[  5,  27]],\n",
       " \n",
       "        [[  5,  28]],\n",
       " \n",
       "        [[  4,  29]],\n",
       " \n",
       "        [[  0,  29]],\n",
       " \n",
       "        [[  0,  52]],\n",
       " \n",
       "        [[ 10,  52]],\n",
       " \n",
       "        [[ 12,  54]],\n",
       " \n",
       "        [[ 12,  56]],\n",
       " \n",
       "        [[ 14,  58]],\n",
       " \n",
       "        [[ 14,  59]],\n",
       " \n",
       "        [[ 15,  60]],\n",
       " \n",
       "        [[ 15,  76]],\n",
       " \n",
       "        [[ 14,  77]],\n",
       " \n",
       "        [[ 14,  78]],\n",
       " \n",
       "        [[ 15,  79]],\n",
       " \n",
       "        [[ 17,  79]],\n",
       " \n",
       "        [[ 18,  80]],\n",
       " \n",
       "        [[ 18,  81]],\n",
       " \n",
       "        [[ 19,  82]],\n",
       " \n",
       "        [[ 19,  83]],\n",
       " \n",
       "        [[ 21,  85]],\n",
       " \n",
       "        [[ 21,  86]],\n",
       " \n",
       "        [[ 22,  87]],\n",
       " \n",
       "        [[ 22,  92]],\n",
       " \n",
       "        [[ 23,  93]],\n",
       " \n",
       "        [[ 24,  93]],\n",
       " \n",
       "        [[ 26,  95]],\n",
       " \n",
       "        [[ 26, 100]],\n",
       " \n",
       "        [[ 31, 100]],\n",
       " \n",
       "        [[ 31,  96]],\n",
       " \n",
       "        [[ 29,  94]],\n",
       " \n",
       "        [[ 28,  94]],\n",
       " \n",
       "        [[ 26,  92]],\n",
       " \n",
       "        [[ 26,  89]],\n",
       " \n",
       "        [[ 25,  88]],\n",
       " \n",
       "        [[ 25,  78]],\n",
       " \n",
       "        [[ 21,  78]],\n",
       " \n",
       "        [[ 20,  77]],\n",
       " \n",
       "        [[ 20,  76]],\n",
       " \n",
       "        [[ 19,  75]],\n",
       " \n",
       "        [[ 19,  71]],\n",
       " \n",
       "        [[ 20,  70]],\n",
       " \n",
       "        [[ 24,  70]],\n",
       " \n",
       "        [[ 26,  72]],\n",
       " \n",
       "        [[ 26,  75]],\n",
       " \n",
       "        [[ 26,  72]],\n",
       " \n",
       "        [[ 24,  70]],\n",
       " \n",
       "        [[ 24,  53]],\n",
       " \n",
       "        [[ 25,  52]],\n",
       " \n",
       "        [[ 26,  52]],\n",
       " \n",
       "        [[ 26,  51]],\n",
       " \n",
       "        [[ 27,  50]],\n",
       " \n",
       "        [[ 27,  41]],\n",
       " \n",
       "        [[ 28,  40]],\n",
       " \n",
       "        [[ 37,  40]],\n",
       " \n",
       "        [[ 42,  45]],\n",
       " \n",
       "        [[ 45,  45]],\n",
       " \n",
       "        [[ 45,  41]],\n",
       " \n",
       "        [[ 41,  41]],\n",
       " \n",
       "        [[ 40,  40]],\n",
       " \n",
       "        [[ 40,  39]],\n",
       " \n",
       "        [[ 39,  38]],\n",
       " \n",
       "        [[ 39,  37]],\n",
       " \n",
       "        [[ 35,  33]],\n",
       " \n",
       "        [[ 35,  32]],\n",
       " \n",
       "        [[ 31,  28]],\n",
       " \n",
       "        [[ 31,  17]],\n",
       " \n",
       "        [[ 30,  16]],\n",
       " \n",
       "        [[ 30,  15]],\n",
       " \n",
       "        [[ 21,  15]],\n",
       " \n",
       "        [[ 20,  14]]], dtype=int32),)"
      ]
     },
     "execution_count": 20,
     "metadata": {},
     "output_type": "execute_result"
    }
   ],
   "source": [
    "desired_contours"
   ]
  },
  {
   "cell_type": "code",
   "execution_count": 5,
   "metadata": {},
   "outputs": [
    {
     "ename": "NameError",
     "evalue": "name 'plt' is not defined",
     "output_type": "error",
     "traceback": [
      "\u001b[1;31m---------------------------------------------------------------------------\u001b[0m",
      "\u001b[1;31mNameError\u001b[0m                                 Traceback (most recent call last)",
      "Cell \u001b[1;32mIn[5], line 41\u001b[0m\n\u001b[0;32m     37\u001b[0m mean_color \u001b[38;5;241m=\u001b[39m cv2\u001b[38;5;241m.\u001b[39mmean(player_region, mask\u001b[38;5;241m=\u001b[39mplayer_mask)[:\u001b[38;5;241m3\u001b[39m]  \u001b[38;5;66;03m# Exclude the alpha channel if present\u001b[39;00m\n\u001b[0;32m     40\u001b[0m \u001b[38;5;66;03m# cv2.imwrite(output_path, outlined_image)\u001b[39;00m\n\u001b[1;32m---> 41\u001b[0m \u001b[43mplt\u001b[49m\u001b[38;5;241m.\u001b[39mimshow(outlined_image)\n\u001b[0;32m     43\u001b[0m \u001b[38;5;66;03m# Display the result\u001b[39;00m\n\u001b[0;32m     44\u001b[0m \u001b[38;5;66;03m# cv2.imshow(\"Outlined Player\", outlined_image)\u001b[39;00m\n\u001b[0;32m     45\u001b[0m \u001b[38;5;66;03m# cv2.imshow(\"Player Region\", player_region)\u001b[39;00m\n\u001b[1;32m   (...)\u001b[0m\n\u001b[0;32m     48\u001b[0m \n\u001b[0;32m     49\u001b[0m \u001b[38;5;66;03m# print(f\"Outlined image saved at {output_path}\")\u001b[39;00m\n\u001b[0;32m     50\u001b[0m \u001b[38;5;28mprint\u001b[39m(\u001b[38;5;124mf\u001b[39m\u001b[38;5;124m\"\u001b[39m\u001b[38;5;124mAverage color of the player region (BGR): \u001b[39m\u001b[38;5;132;01m{\u001b[39;00mmean_color\u001b[38;5;132;01m}\u001b[39;00m\u001b[38;5;124m\"\u001b[39m)\n",
      "\u001b[1;31mNameError\u001b[0m: name 'plt' is not defined"
     ]
    }
   ],
   "source": [
    "import cv2\n",
    "import numpy as np\n",
    "import matplotlib.pyplot as plt\n",
    "\n",
    "# Load the image\n",
    "image_path = \"output/cropped_frame.jpg\"\n",
    "image = cv2.imread(image_path)\n",
    "\n",
    "# Convert the image to HSV color space\n",
    "hsv = cv2.cvtColor(image, cv2.COLOR_BGR2HSV)\n",
    "\n",
    "# Define color range for grass (you may need to adjust these values)\n",
    "lower_grass = np.array([35, 40, 40])\n",
    "upper_grass = np.array([85, 255, 255])\n",
    "\n",
    "# Create a binary mask where the grass color range is met\n",
    "grass_mask = cv2.inRange(hsv, lower_grass, upper_grass)\n",
    "\n",
    "# Invert the grass mask to get the mask of the player\n",
    "player_mask = cv2.bitwise_not(grass_mask)\n",
    "\n",
    "# Perform morphological operations to remove small noise and fill gaps\n",
    "kernel = np.ones((5, 5), np.uint8)\n",
    "player_mask = cv2.morphologyEx(player_mask, cv2.MORPH_CLOSE, kernel)\n",
    "player_mask = cv2.morphologyEx(player_mask, cv2.MORPH_OPEN, kernel)\n",
    "\n",
    "# Extract the player region\n",
    "player_region = cv2.bitwise_and(image, image, mask=player_mask)\n",
    "\n",
    "# Find contours in the player mask for visualization\n",
    "contours, _ = cv2.findContours(player_mask, cv2.RETR_EXTERNAL, cv2.CHAIN_APPROX_SIMPLE)\n",
    "\n",
    "# Draw the contours on the original image for visualization\n",
    "outlined_image = image.copy()\n",
    "cv2.drawContours(outlined_image, contours, -1, (0, 255, 0), 2)\n",
    "\n",
    "# Calculate the average color of the player region\n",
    "mean_color = cv2.mean(player_region, mask=player_mask)[:3]  # Exclude the alpha channel if present\n",
    "\n",
    "\n",
    "# cv2.imwrite(output_path, outlined_image)\n",
    "plt.imshow(outlined_image)\n",
    "\n",
    "# Display the result\n",
    "# cv2.imshow(\"Outlined Player\", outlined_image)\n",
    "# cv2.imshow(\"Player Region\", player_region)\n",
    "# cv2.waitKey(0)\n",
    "# cv2.destroyAllWindows()\n",
    "\n",
    "# print(f\"Outlined image saved at {output_path}\")\n",
    "print(f\"Average color of the player region (BGR): {mean_color}\")\n"
   ]
  },
  {
   "cell_type": "markdown",
   "metadata": {},
   "source": [
    "# TEST"
   ]
  },
  {
   "cell_type": "code",
   "execution_count": 1,
   "metadata": {},
   "outputs": [],
   "source": [
    "import cv2\n",
    "import numpy as np\n",
    "import matplotlib.pyplot as plt\n",
    "import os"
   ]
  },
  {
   "cell_type": "code",
   "execution_count": 2,
   "metadata": {},
   "outputs": [],
   "source": [
    "def segment_image(frame):\n",
    "    gray = cv2.cvtColor(frame, cv2.COLOR_BGR2GRAY)\n",
    "    \n",
    "    # Apply Gaussian blur to reduce noise\n",
    "    blurred = cv2.GaussianBlur(gray, (5, 5), 0)\n",
    "\n",
    "    # Use Otsu's method for thresholding\n",
    "    _, thresh = cv2.threshold(blurred, 0, 255, cv2.THRESH_BINARY_INV + cv2.THRESH_OTSU)\n",
    "\n",
    "    kernel = np.ones((5,5), np.uint8)\n",
    "    opening = cv2.morphologyEx(thresh, cv2.MORPH_OPEN, kernel, iterations=2)\n",
    "\n",
    "    hsv = cv2.cvtColor(frame, cv2.COLOR_BGR2HSV)\n",
    "\n",
    "    # Define color range for segmentation (adjust these values as needed)\n",
    "    lower_color = np.array([30, 40, 40])\n",
    "    upper_color = np.array([90, 255, 255])\n",
    "    mask = cv2.inRange(hsv, lower_color, upper_color)\n",
    "\n",
    "\n",
    "    mask = cv2.morphologyEx(mask, cv2.MORPH_CLOSE, kernel)\n",
    "    mask = cv2.morphologyEx(mask, cv2.MORPH_OPEN, kernel)\n",
    "\n",
    "    contours, _ = cv2.findContours(opening, cv2.RETR_EXTERNAL, cv2.CHAIN_APPROX_SIMPLE)\n",
    "\n",
    "    # Create a blank mask to draw the desired contours\n",
    "    inner_region_mask = np.zeros_like(mask)\n",
    "\n",
    "    # Draw the contours onto the blank mask\n",
    "    cv2.drawContours(inner_region_mask, contours, -1, (255), thickness=cv2.FILLED)\n",
    "\n",
    "    # Subtract the inner region mask from the original mask to get the desired region\n",
    "    desired_region_mask = cv2.bitwise_and(mask, cv2.bitwise_not(inner_region_mask))\n",
    "\n",
    "    # Find contours in the desired region mask\n",
    "    desired_contours, _ = cv2.findContours(desired_region_mask, cv2.RETR_EXTERNAL, cv2.CHAIN_APPROX_SIMPLE)\n",
    "\n",
    "    # Draw the contours of the desired region on the original image for visualization\n",
    "    # outlined_frame = frame.copy()\n",
    "    # cv2.drawContours(outlined_frame, desired_contours, -1, (0, 255, 0), cv2.FILLED)\n",
    "\n",
    "    return desired_contours"
   ]
  },
  {
   "cell_type": "code",
   "execution_count": 10,
   "metadata": {},
   "outputs": [
    {
     "ename": "KeyboardInterrupt",
     "evalue": "",
     "output_type": "error",
     "traceback": [
      "\u001b[1;31m---------------------------------------------------------------------------\u001b[0m",
      "\u001b[1;31mKeyboardInterrupt\u001b[0m                         Traceback (most recent call last)",
      "Cell \u001b[1;32mIn[10], line 13\u001b[0m\n\u001b[0;32m     11\u001b[0m     resized \u001b[38;5;241m=\u001b[39m cv2\u001b[38;5;241m.\u001b[39mresize(curr_im, \u001b[38;5;28;01mNone\u001b[39;00m, fx \u001b[38;5;241m=\u001b[39m \u001b[38;5;241m6\u001b[39m, fy \u001b[38;5;241m=\u001b[39m \u001b[38;5;241m6\u001b[39m, interpolation \u001b[38;5;241m=\u001b[39m cv2\u001b[38;5;241m.\u001b[39mINTER_CUBIC)\n\u001b[0;32m     12\u001b[0m     cv2\u001b[38;5;241m.\u001b[39mimshow(\u001b[38;5;124m\"\u001b[39m\u001b[38;5;124mfilename\u001b[39m\u001b[38;5;124m\"\u001b[39m, resized)\n\u001b[1;32m---> 13\u001b[0m     \u001b[43mcv2\u001b[49m\u001b[38;5;241;43m.\u001b[39;49m\u001b[43mwaitKey\u001b[49m\u001b[43m(\u001b[49m\u001b[38;5;241;43m0\u001b[39;49m\u001b[43m)\u001b[49m\n\u001b[0;32m     14\u001b[0m     cv2\u001b[38;5;241m.\u001b[39mdestroyAllWindows()\n\u001b[0;32m     15\u001b[0m \u001b[38;5;66;03m# break\u001b[39;00m\n",
      "\u001b[1;31mKeyboardInterrupt\u001b[0m: "
     ]
    }
   ],
   "source": [
    "for i in range(1,9):\n",
    "    filename = \"output/cropped_frame_\"+ str(i) + \".jpg\"\n",
    "    if not (os.path.exists(filename)):\n",
    "        break\n",
    "\n",
    "    curr_im = cv2.imread(filename)\n",
    "\n",
    "    contours = segment_image(curr_im)\n",
    "    cv2.drawContours(curr_im, contours, -1, (0, 255, 0), cv2.FILLED)\n",
    "    # cv2.resize(curr_im, (0, 0), fx = 5, fy = 5)\n",
    "    resized = cv2.resize(curr_im, None, fx = 6, fy = 6, interpolation = cv2.INTER_CUBIC)\n",
    "    cv2.imshow(\"filename\", resized)\n",
    "    cv2.waitKey(0)\n",
    "    cv2.destroyAllWindows()\n",
    "# break"
   ]
  },
  {
   "cell_type": "markdown",
   "metadata": {},
   "source": [
    "clustering approach"
   ]
  },
  {
   "cell_type": "code",
   "execution_count": 1,
   "metadata": {},
   "outputs": [],
   "source": [
    "import cv2\n",
    "from sklearn.cluster import KMeans, MeanShift, SpectralClustering\n",
    "import numpy as np\n",
    "import matplotlib.pyplot as plt\n",
    "import os"
   ]
  },
  {
   "cell_type": "code",
   "execution_count": 2,
   "metadata": {},
   "outputs": [],
   "source": [
    "def k_cluster_img(image):\n",
    "    image_2d = image.reshape(-1, 3)\n",
    "    kmeans = KMeans(n_clusters=2, random_state=0).fit(image_2d)\n",
    "    labels = kmeans.labels_\n",
    "    clustered_img = labels.reshape(image.shape[0], image.shape[1])\n",
    "    return clustered_img\n",
    "# plt.imshow(clustered_img)"
   ]
  },
  {
   "cell_type": "code",
   "execution_count": 3,
   "metadata": {},
   "outputs": [],
   "source": [
    "def all_cluster_img(image, n_clusters=2, bandwidth=2):\n",
    "    image_2d = image.reshape(-1, 3)\n",
    "    \n",
    "    # KMeans clustering\n",
    "    kmeans = KMeans(n_clusters=n_clusters, random_state=0).fit(image_2d)\n",
    "    kmeans_labels = kmeans.labels_\n",
    "    kmeans_clustered_img = kmeans_labels.reshape(image.shape[0], image.shape[1])\n",
    "    \n",
    "    # MeanShift clustering\n",
    "    mean_shift = MeanShift(bandwidth=bandwidth, bin_seeding=True).fit(image_2d)\n",
    "    mean_shift_labels = mean_shift.labels_\n",
    "    mean_shift_clustered_img = mean_shift_labels.reshape(image.shape[0], image.shape[1])\n",
    "    \n",
    "    # SpectralClustering\n",
    "    spectral = SpectralClustering(n_clusters=n_clusters, affinity='nearest_neighbors').fit(image_2d)\n",
    "    spectral_labels = spectral.labels_\n",
    "    spectral_clustered_img = spectral_labels.reshape(image.shape[0], image.shape[1])\n",
    "    \n",
    "    return kmeans_clustered_img, mean_shift_clustered_img, spectral_clustered_img"
   ]
  },
  {
   "cell_type": "code",
   "execution_count": 20,
   "metadata": {},
   "outputs": [],
   "source": [
    "def extract_outside_crop(original_image, crop_rect):\n",
    "    # Create a mask of the same size as the original image, initialized to all zeros\n",
    "    mask = np.zeros(original_image.shape[:2], dtype=np.uint8)\n",
    "\n",
    "    # Extract crop rectangle coordinates\n",
    "    x, y, w, h = crop_rect\n",
    "\n",
    "    # Draw a white rectangle on the mask to represent the cropped area\n",
    "    mask[y:y+h, x:x+w] = 255\n",
    "\n",
    "    # Invert the mask to get the area outside the crop\n",
    "    mask_inv = cv2.bitwise_not(mask)\n",
    "\n",
    "    # Use the inverted mask to extract the desired region from the original image\n",
    "    outside_crop = cv2.bitwise_and(original_image, original_image, mask=mask_inv)\n",
    "\n",
    "    return outside_crop"
   ]
  },
  {
   "cell_type": "code",
   "execution_count": 35,
   "metadata": {},
   "outputs": [
    {
     "name": "stderr",
     "output_type": "stream",
     "text": [
      "d:\\Apps\\anaconda3\\envs\\pytorch\\lib\\site-packages\\sklearn\\manifold\\_spectral_embedding.py:329: UserWarning: Graph is not fully connected, spectral embedding may not work as expected.\n",
      "  warnings.warn(\n"
     ]
    },
    {
     "data": {
      "image/png": "[encoded data removed]",
      "text/plain": [
       "<Figure size 640x480 with 1 Axes>"
      ]
     },
     "metadata": {},
     "output_type": "display_data"
    },
    {
     "name": "stderr",
     "output_type": "stream",
     "text": [
      "d:\\Apps\\anaconda3\\envs\\pytorch\\lib\\site-packages\\sklearn\\manifold\\_spectral_embedding.py:329: UserWarning: Graph is not fully connected, spectral embedding may not work as expected.\n",
      "  warnings.warn(\n"
     ]
    },
    {
     "data": {
      "image/png": "[encoded data removed]",
      "text/plain": [
       "<Figure size 640x480 with 1 Axes>"
      ]
     },
     "metadata": {},
     "output_type": "display_data"
    },
    {
     "data": {
      "image/png": "[encoded data removed]",
      "text/plain": [
       "<Figure size 640x480 with 1 Axes>"
      ]
     },
     "metadata": {},
     "output_type": "display_data"
    },
    {
     "data": {
      "image/png": "[encoded data removed]",
      "text/plain": [
       "<Figure size 640x480 with 1 Axes>"
      ]
     },
     "metadata": {},
     "output_type": "display_data"
    },
    {
     "name": "stderr",
     "output_type": "stream",
     "text": [
      "d:\\Apps\\anaconda3\\envs\\pytorch\\lib\\site-packages\\sklearn\\manifold\\_spectral_embedding.py:329: UserWarning: Graph is not fully connected, spectral embedding may not work as expected.\n",
      "  warnings.warn(\n"
     ]
    },
    {
     "data": {
      "image/png": "[encoded data removed]",
      "text/plain": [
       "<Figure size 640x480 with 1 Axes>"
      ]
     },
     "metadata": {},
     "output_type": "display_data"
    },
    {
     "name": "stderr",
     "output_type": "stream",
     "text": [
      "d:\\Apps\\anaconda3\\envs\\pytorch\\lib\\site-packages\\sklearn\\manifold\\_spectral_embedding.py:329: UserWarning: Graph is not fully connected, spectral embedding may not work as expected.\n",
      "  warnings.warn(\n"
     ]
    },
    {
     "data": {
      "image/png": "[encoded data removed]",
      "text/plain": [
       "<Figure size 640x480 with 1 Axes>"
      ]
     },
     "metadata": {},
     "output_type": "display_data"
    }
   ],
   "source": [
    "for i in range(1,9):\n",
    "    filename = \"output/cropped_frame_\"+ str(i) + \".jpg\"\n",
    "    if not (os.path.exists(filename)):\n",
    "        break\n",
    "\n",
    "    curr_im = cv2.imread(filename)\n",
    "\n",
    "    k, m, s = all_cluster_img(curr_im, bandwidth=0.04)\n",
    "    # cv2.resize(curr_im, (0, 0), fx = 5, fy = 5)\n",
    "    # resized = cv2.resize(clustered, None, fx = 6, fy = 6, interpolation = cv2.INTER_CUBIC)\n",
    "    h,w = k.shape\n",
    "    # crop = [int(w/3), int(h/8), int(2*w/3), int(h/2)] # for inner\n",
    "    crop = [int(0), int(7*h/8), int(w), int(h)] # for bottom outer\n",
    "\n",
    "    cropped_frame = k[int(crop[1]):int(crop[3]), int(crop[0]):int(crop[2])]\n",
    "\n",
    "\n",
    "    corners = [k[0,0], k[0,-1], k[-1,0], k[-1,-1]]\n",
    "    non_player = max(set(corners), key=corners.count)\n",
    "    # print(corners)\n",
    "\n",
    "    plt.imshow(cropped_frame)\n",
    "    # plt.imshow(cropped_frame) \n",
    "    # plt.imshow(m) \n",
    "    # plt.imshow(s) \n",
    "\n",
    "    plt.show()\n",
    "    # break\n",
    "\n",
    "    # cv2.imshow(\"filename\", clustered)\n",
    "    # cv2.waitKey(0)\n",
    "    # cv2.destroyAllWindows()\n",
    "# break"
   ]
  },
  {
   "cell_type": "code",
   "execution_count": 39,
   "metadata": {},
   "outputs": [
    {
     "name": "stdout",
     "output_type": "stream",
     "text": [
      "Weighted Average: 0.13004121024268256\n"
     ]
    }
   ],
   "source": [
    "height, width = cropped_frame.shape\n",
    "\n",
    "# Create a weight matrix\n",
    "weights = np.zeros((height, width))\n",
    "\n",
    "# Assign higher weights to the sides, excluding the top\n",
    "for y in range(height):\n",
    "    for x in range(width):\n",
    "        if y > 0:  # Exclude the top row\n",
    "            # Linear weighting: increase weight linearly towards the sides\n",
    "            weight = max(x / (width / 2), (width - x - 1) / (width / 2))\n",
    "            weights[y, x] = weight\n",
    "\n",
    "# Normalize weights to sum to 1\n",
    "weights = weights / weights.sum()\n",
    "\n",
    "# Compute the weighted average for the single-channel image\n",
    "weighted_avg = np.sum(cropped_frame * weights)\n",
    "\n",
    "print(\"Weighted Average:\", weighted_avg)"
   ]
  }
 ],
 "metadata": {
  "kernelspec": {
   "display_name": "pytorch",
   "language": "python",
   "name": "python3"
  },
  "language_info": {
   "codemirror_mode": {
    "name": "ipython",
    "version": 3
   },
   "file_extension": ".py",
   "mimetype": "text/x-python",
   "name": "python",
   "nbconvert_exporter": "python",
   "pygments_lexer": "ipython3",
   "version": "3.9.19"
  }
 },
 "nbformat": 4,
 "nbformat_minor": 2
}
