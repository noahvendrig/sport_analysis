{
 "cells": [
  {
   "cell_type": "code",
   "execution_count": 2,
   "id": "c09783f0",
   "metadata": {},
   "outputs": [
    {
     "ename": "ModuleNotFoundError",
     "evalue": "No module named 'models'",
     "output_type": "error",
     "traceback": [
      "\u001b[1;31m---------------------------------------------------------------------------\u001b[0m",
      "\u001b[1;31mModuleNotFoundError\u001b[0m                       Traceback (most recent call last)",
      "Cell \u001b[1;32mIn[2], line 3\u001b[0m\n\u001b[0;32m      1\u001b[0m \u001b[38;5;28;01mimport\u001b[39;00m \u001b[38;5;21;01mcv2\u001b[39;00m\n\u001b[0;32m      2\u001b[0m \u001b[38;5;28;01mimport\u001b[39;00m \u001b[38;5;21;01mtorchvision\u001b[39;00m\u001b[38;5;21;01m.\u001b[39;00m\u001b[38;5;21;01mtransforms\u001b[39;00m \u001b[38;5;28;01mas\u001b[39;00m \u001b[38;5;21;01mtransforms\u001b[39;00m\n\u001b[1;32m----> 3\u001b[0m \u001b[38;5;28;01mfrom\u001b[39;00m \u001b[38;5;21;01mmodels\u001b[39;00m\u001b[38;5;21;01m.\u001b[39;00m\u001b[38;5;21;01mcommon\u001b[39;00m \u001b[38;5;28;01mimport\u001b[39;00m non_max_suppression\n\u001b[0;32m      4\u001b[0m \u001b[38;5;28;01mimport\u001b[39;00m \u001b[38;5;21;01mos\u001b[39;00m\n\u001b[0;32m      5\u001b[0m \u001b[38;5;66;03m# import sys\u001b[39;00m\n",
      "\u001b[1;31mModuleNotFoundError\u001b[0m: No module named 'models'"
     ]
    }
   ],
   "source": [
    "import cv2\n",
    "import torchvision.transforms as transforms\n",
    "from models.common import non_max_suppression\n",
    "import os\n",
    "# import sys\n",
    "import torch\n",
    "\n",
    "from yolov9.models.yolo import Model\n",
    "\n",
    "cwd = os.getcwd()\n",
    "yolo_dir = os.path.join(cwd, \"yolov9\")\n",
    "weights_dir = os.path.join(yolo_dir, \"weights\")"
   ]
  },
  {
   "cell_type": "code",
   "execution_count": null,
   "id": "74b92723",
   "metadata": {},
   "outputs": [],
   "source": [
    "model = torch.hub.load(yolo_dir, 'custom',  source='local', path=os.path.join(weights_dir, \"yolov9-e.pt\"), force_reload = True)\n",
    "model.eval()"
   ]
  },
  {
   "cell_type": "code",
   "execution_count": null,
   "id": "f4f25973",
   "metadata": {},
   "outputs": [],
   "source": [
    "image = cv2.imread(os.path.join(cwd, \"data\", \"d3.jpg\"))\n",
    "\n",
    "# Convert BGR image to RGB image\n",
    "# image = cv2.cvtColor(image, cv2.COLOR_BGR2RGB)\n",
    "image = cv2.resize(image, None, fx=0.3, fy=0.3) \n",
    "# image = cv2.resize(image, (1280, 1280)) \n",
    "\n",
    "# Define a transform to convert the image to torch tensor\n",
    "transform = transforms.Compose([\n",
    "    transforms.ToTensor()\n",
    "])\n",
    "\n",
    "# Convert the image to Torch tensor\n",
    "tensor = transform(image)\n",
    "\n",
    "tensor = tensor[None, ...]\n",
    "\n",
    "output = model(tensor)  # PyTorch expects input images to have four dimensions: batch, channels, height and width. You need to add a singleton \"batch\" dimension:\n",
    "\n",
    "detections = output[0] # batch size 1\n",
    "conf_thres = 0.25  # Confidence threshold\n",
    "iou_thres = 0.45   # IoU threshold\n",
    "results = non_max_suppression(detections, conf_thres, iou_thres)\n",
    "\n",
    "results = results[0]  # Get results for the first (and only) image\n",
    "\n",
    "# Convert to numpy array\n",
    "results = results.cpu().numpy()\n",
    "\n",
    "print(results)\n",
    "print(model.names)\n",
    "# print(list(map(lambda p: model.names[p], class_preds)))"
   ]
  },
  {
   "cell_type": "code",
   "execution_count": null,
   "id": "c9fa2e54",
   "metadata": {},
   "outputs": [],
   "source": [
    "def draw_detections(image, results, class_names):\n",
    "    for x1, y1, x2, y2, conf, cls in results:\n",
    "        label = f\"{class_names[int(cls)]}: {conf:.2f}\"\n",
    "        \n",
    "        # Draw bounding box\n",
    "        cv2.rectangle(image, (int(x1), int(y1)), (int(x2), int(y2)), (0, 255, 0), 2)\n",
    "        \n",
    "        # Draw label\n",
    "        cv2.putText(image, label, (int(x1), int(y1) - 10), cv2.FONT_HERSHEY_SIMPLEX, 0.5, (0, 255, 0), 2)"
   ]
  },
  {
   "cell_type": "code",
   "execution_count": null,
   "id": "c62637f6",
   "metadata": {},
   "outputs": [],
   "source": [
    "class_names = model.names\n",
    "\n",
    "# Assuming 'image' is your original image\n",
    "image_np = image.copy()\n",
    "\n",
    "# Draw detections on the image\n",
    "draw_detections(image_np, results, class_names)\n",
    "\n",
    "image_np = cv2.resize(image_np, (630, 950)) \n",
    "\n",
    "# Display or save the result\n",
    "cv2.imshow('Result', image_np)\n",
    "cv2.waitKey(0)\n",
    "cv2.destroyAllWindows()\n",
    "\n",
    "# Or save the image\n",
    "# cv2.imwrite('result.jpg', cv2.cvtColor(image_np, cv2.COLOR_RGB2BGR))"
   ]
  }
 ],
 "metadata": {
  "kernelspec": {
   "display_name": "Python 3 (ipykernel)",
   "language": "python",
   "name": "python3"
  },
  "language_info": {
   "codemirror_mode": {
    "name": "ipython",
    "version": 3
   },
   "file_extension": ".py",
   "mimetype": "text/x-python",
   "name": "python",
   "nbconvert_exporter": "python",
   "pygments_lexer": "ipython3",
   "version": "3.9.19"
  }
 },
 "nbformat": 4,
 "nbformat_minor": 5
}
