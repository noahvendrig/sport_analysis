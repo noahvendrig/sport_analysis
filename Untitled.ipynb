{
 "cells": [
  {
   "cell_type": "raw",
   "id": "0edfd55a",
   "metadata": {},
   "source": [
    "import os\n",
    "HOME = os.getcwd()"
   ]
  },
  {
   "cell_type": "code",
   "execution_count": 10,
   "id": "d5955aca",
   "metadata": {},
   "outputs": [
    {
     "name": "stderr",
     "output_type": "stream",
     "text": [
      "\u001b[34m\u001b[1mdetect: \u001b[0mweights=['C:\\\\Users\\\\elect\\\\Github\\\\sport_analysis/yolov9/weights/gelan-c.pt'], source=C:\\Users\\elect\\Github\\sport_analysis/data/d1.jpg, data=yolov9\\data\\coco128.yaml, imgsz=[640, 640], conf_thres=0.1, iou_thres=0.45, max_det=1000, device=cpu, view_img=False, save_txt=False, save_conf=False, save_crop=False, nosave=False, classes=None, agnostic_nms=False, augment=False, visualize=False, update=False, project=yolov9\\runs\\detect, name=exp, exist_ok=False, line_thickness=3, hide_labels=False, hide_conf=False, half=False, dnn=False, vid_stride=1\n",
      "YOLOv5  2024-7-14 Python-3.9.19 torch-2.3.1+cpu CPU\n",
      "\n",
      "Fusing layers... \n",
      "Model summary: 467 layers, 25472640 parameters, 0 gradients, 102.8 GFLOPs\n",
      "image 1/1 C:\\Users\\elect\\Github\\sport_analysis\\data\\d1.jpg: 640x448 3 persons, 2 ties, 323.5ms\n",
      "Speed: 3.4ms pre-process, 323.5ms inference, 12.2ms NMS per image at shape (1, 3, 640, 640)\n",
      "Results saved to \u001b[1myolov9\\runs\\detect\\exp3\u001b[0m\n"
     ]
    }
   ],
   "source": [
    "!python yolov9/detect.py --weights {HOME}/yolov9/weights/gelan-c.pt --conf 0.1 --source {HOME}/data/d1.jpg --device cpu"
   ]
  },
  {
   "cell_type": "code",
   "execution_count": null,
   "id": "faa3aeb9",
   "metadata": {},
   "outputs": [],
   "source": []
  },
  {
   "cell_type": "code",
   "execution_count": 2,
   "id": "7627f1a3",
   "metadata": {},
   "outputs": [],
   "source": [
    "yolo_root = f\"{HOME}\\\\yolov9\""
   ]
  },
  {
   "cell_type": "code",
   "execution_count": 3,
   "id": "8ee1ad19",
   "metadata": {},
   "outputs": [],
   "source": [
    "dataset = f\"{yolo_root}\\\\data\\\\football-players-detection.v1i.yolov9\""
   ]
  },
  {
   "cell_type": "code",
   "execution_count": 4,
   "id": "bc687050",
   "metadata": {},
   "outputs": [
    {
     "data": {
      "text/plain": [
       "True"
      ]
     },
     "execution_count": 4,
     "metadata": {},
     "output_type": "execute_result"
    }
   ],
   "source": [
    "os.path.exists(dataset)"
   ]
  },
  {
   "cell_type": "code",
   "execution_count": null,
   "id": "ded82e17",
   "metadata": {},
   "outputs": [],
   "source": [
    "!python yolov9/train.py \\\n",
    "--batch 16 --epochs 20 --img 640 --device cpu --min-items 0 --close-mosaic 15 \\\n",
    "--data {yolo_root}/data.yaml \\\n",
    "--weights {yolo_root}/weights/gelan-c.pt \\\n",
    "--cfg {yolo_root}/models/detect/gelan-c.yaml \\\n",
    "--hyp hyp.scratch-high.yaml"
   ]
  },
  {
   "cell_type": "code",
   "execution_count": 26,
   "id": "d3744831",
   "metadata": {},
   "outputs": [
    {
     "name": "stdout",
     "output_type": "stream",
     "text": [
      "^C\n"
     ]
    }
   ],
   "source": [
    "from IPython.display import Image, display"
   ]
  },
  {
   "cell_type": "code",
   "execution_count": 45,
   "id": "ff4009f9",
   "metadata": {},
   "outputs": [
    {
     "ename": "NameError",
     "evalue": "name 'Image' is not defined",
     "output_type": "error",
     "traceback": [
      "\u001b[1;31m---------------------------------------------------------------------------\u001b[0m",
      "\u001b[1;31mNameError\u001b[0m                                 Traceback (most recent call last)",
      "Input \u001b[1;32mIn [45]\u001b[0m, in \u001b[0;36m<cell line: 1>\u001b[1;34m()\u001b[0m\n\u001b[1;32m----> 1\u001b[0m \u001b[43mImage\u001b[49m(filename\u001b[38;5;241m=\u001b[39m\u001b[38;5;124mf\u001b[39m\u001b[38;5;124m\"\u001b[39m\u001b[38;5;132;01m{\u001b[39;00mHOME\u001b[38;5;132;01m}\u001b[39;00m\u001b[38;5;124m/yolov9/runs/train/exp/results.png\u001b[39m\u001b[38;5;124m\"\u001b[39m, width\u001b[38;5;241m=\u001b[39m\u001b[38;5;241m1000\u001b[39m)\n",
      "\u001b[1;31mNameError\u001b[0m: name 'Image' is not defined"
     ]
    }
   ],
   "source": [
    "Image(filename=f\"{HOME}/yolov9/runs/train/exp/results.png\", width=1000)"
   ]
  },
  {
   "cell_type": "code",
   "execution_count": null,
   "id": "64daf7d3",
   "metadata": {},
   "outputs": [],
   "source": []
  }
 ],
 "metadata": {
  "kernelspec": {
   "display_name": "Python 3 (ipykernel)",
   "language": "python",
   "name": "python3"
  },
  "language_info": {
   "codemirror_mode": {
    "name": "ipython",
    "version": 3
   },
   "file_extension": ".py",
   "mimetype": "text/x-python",
   "name": "python",
   "nbconvert_exporter": "python",
   "pygments_lexer": "ipython3",
   "version": "3.9.12"
  }
 },
 "nbformat": 4,
 "nbformat_minor": 5
}
